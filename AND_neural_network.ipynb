{
 "cells": [
  {
   "cell_type": "code",
   "execution_count": 3,
   "metadata": {},
   "outputs": [],
   "source": [
    "import tensorflow as tf\n",
    "import numpy as np\n",
    "import math"
   ]
  },
  {
   "cell_type": "code",
   "execution_count": 4,
   "metadata": {},
   "outputs": [],
   "source": [
    "def sigmoid(x):\n",
    "    return 1 / (1 + math.exp(-x))"
   ]
  },
  {
   "cell_type": "code",
   "execution_count": 5,
   "metadata": {},
   "outputs": [],
   "source": [
    "# AND 신견망 네트워크\n",
    "\n",
    "x = np.array([[1, 1], [1, 0], [0, 1], [0, 0]])\n",
    "y = np.array([[1], [0], [0], [0]])\n",
    "\n",
    "w = tf.random.normal([2], 0, 1)\n",
    "b = tf.random.normal([1], 0, 1)\n",
    "\n",
    "alpha = 0.1    \n",
    "b_x = 1    # bias에 대한 input "
   ]
  },
  {
   "cell_type": "code",
   "execution_count": 20,
   "metadata": {},
   "outputs": [
    {
     "name": "stdout",
     "output_type": "stream",
     "text": [
      "199 -0.0013584662592709897\n",
      "399 -0.001346249240489777\n",
      "599 -0.0013341685593127243\n",
      "799 -0.0013223189471357384\n",
      "999 -0.001310822533120826\n",
      "1199 -0.0012993286049470486\n",
      "1399 -0.0012883903791059696\n",
      "1599 -0.0012774836559476315\n",
      "1799 -0.0012666200629046476\n",
      "1999 -0.0012562975716623058\n"
     ]
    }
   ],
   "source": [
    "for i in range(2000):\n",
    "    error_sum = 0\n",
    "    \n",
    "    \n",
    "    for j in range(4):\n",
    "        output = sigmoid(np.sum(x[j] * w) + b_x * b)\n",
    "        error = y[j][0] - output\n",
    "        \n",
    "        w = w + x[j] * alpha * error\n",
    "        b = b + b_x * alpha * error\n",
    "        \n",
    "        error_sum += error\n",
    "        \n",
    "    if i % 200 == 199:\n",
    "        print(i, error_sum)"
   ]
  },
  {
   "cell_type": "code",
   "execution_count": 21,
   "metadata": {
    "scrolled": true
   },
   "outputs": [
    {
     "name": "stdout",
     "output_type": "stream",
     "text": [
      "X: [1 1] Y: [1] output: 0.9970688245378813\n",
      "X: [1 0] Y: [0] output: 0.002092418115160936\n",
      "X: [0 1] Y: [0] output: 0.002092967788763067\n",
      "X: [0 0] Y: [0] output: 1.2928474518991677e-08\n"
     ]
    }
   ],
   "source": [
    "for i in range(4):\n",
    "    print('X:', x[i], 'Y:', y[i], 'output:', sigmoid(np.sum(x[i] * w) + b))"
   ]
  },
  {
   "cell_type": "code",
   "execution_count": 22,
   "metadata": {},
   "outputs": [
    {
     "name": "stdout",
     "output_type": "stream",
     "text": [
      "tf.Tensor([11.996493 11.996757], shape=(2,), dtype=float32)\n"
     ]
    }
   ],
   "source": [
    "print(w)"
   ]
  },
  {
   "cell_type": "code",
   "execution_count": null,
   "metadata": {},
   "outputs": [],
   "source": []
  }
 ],
 "metadata": {
  "kernelspec": {
   "display_name": "Python 3",
   "language": "python",
   "name": "python3"
  },
  "language_info": {
   "codemirror_mode": {
    "name": "ipython",
    "version": 3
   },
   "file_extension": ".py",
   "mimetype": "text/x-python",
   "name": "python",
   "nbconvert_exporter": "python",
   "pygments_lexer": "ipython3",
   "version": "3.7.7"
  }
 },
 "nbformat": 4,
 "nbformat_minor": 4
}
